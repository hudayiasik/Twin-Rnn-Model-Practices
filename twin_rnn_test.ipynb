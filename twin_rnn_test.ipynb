{
 "cells": [
  {
   "cell_type": "markdown",
   "metadata": {},
   "source": [
    "## imports"
   ]
  },
  {
   "cell_type": "code",
   "execution_count": 1,
   "metadata": {},
   "outputs": [],
   "source": [
    "import torch\n",
    "import torch.nn as nn\n",
    "import pandas as pd\n",
    "import numpy as np"
   ]
  },
  {
   "cell_type": "markdown",
   "metadata": {},
   "source": [
    "## Parameters"
   ]
  },
  {
   "cell_type": "code",
   "execution_count": 2,
   "metadata": {},
   "outputs": [],
   "source": [
    "# Instantiate the model\n",
    "input_size = 400  # Example input size\n",
    "hidden_size = 64  # Example hidden size\n",
    "num_layers = 2    # Example number of layers\n",
    "num_features = 2  # Number of features in each twin"
   ]
  },
  {
   "cell_type": "markdown",
   "metadata": {},
   "source": [
    "## Twin Rnn Model"
   ]
  },
  {
   "cell_type": "code",
   "execution_count": 3,
   "metadata": {},
   "outputs": [],
   "source": [
    "class TwinRNN(nn.Module):\n",
    "    def __init__(self, input_size, hidden_size, num_layers, num_features):\n",
    "        super(TwinRNN, self).__init__()\n",
    "        \n",
    "        # Define LSTM layers for twin 1 and twin 2\n",
    "        self.lstmTwin1 = nn.LSTM(num_features, hidden_size, num_layers, batch_first=True)\n",
    "        self.lstmTwin2 = nn.LSTM(num_features, hidden_size, num_layers, batch_first=True)\n",
    "        \n",
    "        # Initialize hidden states and cell states\n",
    "        self.hidden_size = hidden_size\n",
    "        self.num_layers = num_layers\n",
    "        # Initialize the hidden state with the correct shape\n",
    "        self.hidden1 = (torch.zeros(num_layers, 1, hidden_size),  # Hidden state\n",
    "                        torch.zeros(num_layers, 1, hidden_size))  # Cell state\n",
    "\n",
    "        self.hidden2 = self.init_hidden()\n",
    "        \n",
    "    def init_hidden(self):\n",
    "        # Initialize hidden state and cell state\n",
    "        return (torch.zeros(self.num_layers, 1, self.hidden_size),\n",
    "                torch.zeros(self.num_layers, 1, self.hidden_size))\n",
    "        \n",
    "    def forward(self, x):\n",
    "        # Twin 1\n",
    "        xTwin1 = x[:, :, :2]\n",
    "        features1 = xTwin1[:, :, 0].unsqueeze(-1)  # Selecting the first feature column\n",
    "        inputsTwin1 = features1.float()\n",
    "        inputsTwin1 = inputsTwin1.permute(1, 0, 2)  # Transposing dimensions for LSTM input\n",
    "        lstm_out1, (h_n1, c_n1) = self.lstmTwin1(inputsTwin1, self.hidden1)\n",
    "        featMapTwin1 = torch.cat([h_n1[i, :, :] for i in range(h_n1.shape[0])], dim=1)\n",
    "        \n",
    "        # Twin 2\n",
    "        xTwin2 = x[:, :, 2:4]\n",
    "        features2 = xTwin2\n",
    "        features2 = xTwin2[:, :, 0].unsqueeze(-1)  # Selecting the first feature column\n",
    "        inputsTwin2 = inputsTwin2.permute(1, 0, 2)\n",
    "        lstm_out2, (h_n2, c_n2) = self.lstmTwin2(inputsTwin2, self.hidden2)\n",
    "        featMapTwin2 = torch.cat([h_n2[i, :, :] for i in range(h_n2.shape[0])], dim=1)\n",
    "        \n",
    "        # Combine twins\n",
    "        featMap = torch.cat((featMapTwin1, featMapTwin2), dim=1)\n",
    "        \n",
    "        return featMap\n",
    "\n",
    "\n",
    "\n",
    "        \n"
   ]
  },
  {
   "cell_type": "markdown",
   "metadata": {},
   "source": [
    "## Data"
   ]
  },
  {
   "cell_type": "code",
   "execution_count": 4,
   "metadata": {},
   "outputs": [
    {
     "data": {
      "text/html": [
       "<div>\n",
       "<style scoped>\n",
       "    .dataframe tbody tr th:only-of-type {\n",
       "        vertical-align: middle;\n",
       "    }\n",
       "\n",
       "    .dataframe tbody tr th {\n",
       "        vertical-align: top;\n",
       "    }\n",
       "\n",
       "    .dataframe thead th {\n",
       "        text-align: right;\n",
       "    }\n",
       "</style>\n",
       "<table border=\"1\" class=\"dataframe\">\n",
       "  <thead>\n",
       "    <tr style=\"text-align: right;\">\n",
       "      <th></th>\n",
       "      <th>num1</th>\n",
       "      <th>num2</th>\n",
       "      <th>label</th>\n",
       "    </tr>\n",
       "  </thead>\n",
       "  <tbody>\n",
       "    <tr>\n",
       "      <th>0</th>\n",
       "      <td>81</td>\n",
       "      <td>67</td>\n",
       "      <td>0</td>\n",
       "    </tr>\n",
       "    <tr>\n",
       "      <th>1</th>\n",
       "      <td>67</td>\n",
       "      <td>25</td>\n",
       "      <td>1</td>\n",
       "    </tr>\n",
       "    <tr>\n",
       "      <th>2</th>\n",
       "      <td>93</td>\n",
       "      <td>78</td>\n",
       "      <td>0</td>\n",
       "    </tr>\n",
       "    <tr>\n",
       "      <th>3</th>\n",
       "      <td>58</td>\n",
       "      <td>54</td>\n",
       "      <td>0</td>\n",
       "    </tr>\n",
       "    <tr>\n",
       "      <th>4</th>\n",
       "      <td>23</td>\n",
       "      <td>83</td>\n",
       "      <td>1</td>\n",
       "    </tr>\n",
       "  </tbody>\n",
       "</table>\n",
       "</div>"
      ],
      "text/plain": [
       "   num1  num2  label\n",
       "0    81    67      0\n",
       "1    67    25      1\n",
       "2    93    78      0\n",
       "3    58    54      0\n",
       "4    23    83      1"
      ]
     },
     "execution_count": 4,
     "metadata": {},
     "output_type": "execute_result"
    }
   ],
   "source": [
    "# Load the CSV file\n",
    "data = pd.read_csv('./data.csv')\n",
    "\n",
    "data.head()"
   ]
  },
  {
   "cell_type": "markdown",
   "metadata": {},
   "source": [
    "## Train"
   ]
  },
  {
   "cell_type": "code",
   "execution_count": 5,
   "metadata": {},
   "outputs": [
    {
     "ename": "RuntimeError",
     "evalue": "input.size(-1) must be equal to input_size. Expected 2, got 1",
     "output_type": "error",
     "traceback": [
      "\u001b[1;31m---------------------------------------------------------------------------\u001b[0m",
      "\u001b[1;31mRuntimeError\u001b[0m                              Traceback (most recent call last)",
      "Cell \u001b[1;32mIn[5], line 9\u001b[0m\n\u001b[0;32m      7\u001b[0m \u001b[38;5;66;03m# Perform inference\u001b[39;00m\n\u001b[0;32m      8\u001b[0m \u001b[38;5;28;01mwith\u001b[39;00m torch\u001b[38;5;241m.\u001b[39mno_grad():\n\u001b[1;32m----> 9\u001b[0m     output \u001b[38;5;241m=\u001b[39m \u001b[43mmodel\u001b[49m\u001b[43m(\u001b[49m\u001b[43mdata_tensor\u001b[49m\u001b[38;5;241;43m.\u001b[39;49m\u001b[43munsqueeze\u001b[49m\u001b[43m(\u001b[49m\u001b[38;5;241;43m0\u001b[39;49m\u001b[43m)\u001b[49m\u001b[43m)\u001b[49m  \u001b[38;5;66;03m# Add batch dimension\u001b[39;00m\n\u001b[0;32m     10\u001b[0m     \u001b[38;5;28mprint\u001b[39m(output)\n",
      "File \u001b[1;32mc:\\Users\\huday\\AppData\\Local\\Programs\\Python\\Python311\\Lib\\site-packages\\torch\\nn\\modules\\module.py:1501\u001b[0m, in \u001b[0;36mModule._call_impl\u001b[1;34m(self, *args, **kwargs)\u001b[0m\n\u001b[0;32m   1496\u001b[0m \u001b[38;5;66;03m# If we don't have any hooks, we want to skip the rest of the logic in\u001b[39;00m\n\u001b[0;32m   1497\u001b[0m \u001b[38;5;66;03m# this function, and just call forward.\u001b[39;00m\n\u001b[0;32m   1498\u001b[0m \u001b[38;5;28;01mif\u001b[39;00m \u001b[38;5;129;01mnot\u001b[39;00m (\u001b[38;5;28mself\u001b[39m\u001b[38;5;241m.\u001b[39m_backward_hooks \u001b[38;5;129;01mor\u001b[39;00m \u001b[38;5;28mself\u001b[39m\u001b[38;5;241m.\u001b[39m_backward_pre_hooks \u001b[38;5;129;01mor\u001b[39;00m \u001b[38;5;28mself\u001b[39m\u001b[38;5;241m.\u001b[39m_forward_hooks \u001b[38;5;129;01mor\u001b[39;00m \u001b[38;5;28mself\u001b[39m\u001b[38;5;241m.\u001b[39m_forward_pre_hooks\n\u001b[0;32m   1499\u001b[0m         \u001b[38;5;129;01mor\u001b[39;00m _global_backward_pre_hooks \u001b[38;5;129;01mor\u001b[39;00m _global_backward_hooks\n\u001b[0;32m   1500\u001b[0m         \u001b[38;5;129;01mor\u001b[39;00m _global_forward_hooks \u001b[38;5;129;01mor\u001b[39;00m _global_forward_pre_hooks):\n\u001b[1;32m-> 1501\u001b[0m     \u001b[38;5;28;01mreturn\u001b[39;00m \u001b[43mforward_call\u001b[49m\u001b[43m(\u001b[49m\u001b[38;5;241;43m*\u001b[39;49m\u001b[43margs\u001b[49m\u001b[43m,\u001b[49m\u001b[43m \u001b[49m\u001b[38;5;241;43m*\u001b[39;49m\u001b[38;5;241;43m*\u001b[39;49m\u001b[43mkwargs\u001b[49m\u001b[43m)\u001b[49m\n\u001b[0;32m   1502\u001b[0m \u001b[38;5;66;03m# Do not call functions when jit is used\u001b[39;00m\n\u001b[0;32m   1503\u001b[0m full_backward_hooks, non_full_backward_hooks \u001b[38;5;241m=\u001b[39m [], []\n",
      "Cell \u001b[1;32mIn[3], line 29\u001b[0m, in \u001b[0;36mTwinRNN.forward\u001b[1;34m(self, x)\u001b[0m\n\u001b[0;32m     27\u001b[0m inputsTwin1 \u001b[38;5;241m=\u001b[39m features1\u001b[38;5;241m.\u001b[39mfloat()\n\u001b[0;32m     28\u001b[0m inputsTwin1 \u001b[38;5;241m=\u001b[39m inputsTwin1\u001b[38;5;241m.\u001b[39mpermute(\u001b[38;5;241m1\u001b[39m, \u001b[38;5;241m0\u001b[39m, \u001b[38;5;241m2\u001b[39m)  \u001b[38;5;66;03m# Transposing dimensions for LSTM input\u001b[39;00m\n\u001b[1;32m---> 29\u001b[0m lstm_out1, (h_n1, c_n1) \u001b[38;5;241m=\u001b[39m \u001b[38;5;28;43mself\u001b[39;49m\u001b[38;5;241;43m.\u001b[39;49m\u001b[43mlstmTwin1\u001b[49m\u001b[43m(\u001b[49m\u001b[43minputsTwin1\u001b[49m\u001b[43m,\u001b[49m\u001b[43m \u001b[49m\u001b[38;5;28;43mself\u001b[39;49m\u001b[38;5;241;43m.\u001b[39;49m\u001b[43mhidden1\u001b[49m\u001b[43m)\u001b[49m\n\u001b[0;32m     30\u001b[0m featMapTwin1 \u001b[38;5;241m=\u001b[39m torch\u001b[38;5;241m.\u001b[39mcat([h_n1[i, :, :] \u001b[38;5;28;01mfor\u001b[39;00m i \u001b[38;5;129;01min\u001b[39;00m \u001b[38;5;28mrange\u001b[39m(h_n1\u001b[38;5;241m.\u001b[39mshape[\u001b[38;5;241m0\u001b[39m])], dim\u001b[38;5;241m=\u001b[39m\u001b[38;5;241m1\u001b[39m)\n\u001b[0;32m     32\u001b[0m \u001b[38;5;66;03m# Twin 2\u001b[39;00m\n",
      "File \u001b[1;32mc:\\Users\\huday\\AppData\\Local\\Programs\\Python\\Python311\\Lib\\site-packages\\torch\\nn\\modules\\module.py:1501\u001b[0m, in \u001b[0;36mModule._call_impl\u001b[1;34m(self, *args, **kwargs)\u001b[0m\n\u001b[0;32m   1496\u001b[0m \u001b[38;5;66;03m# If we don't have any hooks, we want to skip the rest of the logic in\u001b[39;00m\n\u001b[0;32m   1497\u001b[0m \u001b[38;5;66;03m# this function, and just call forward.\u001b[39;00m\n\u001b[0;32m   1498\u001b[0m \u001b[38;5;28;01mif\u001b[39;00m \u001b[38;5;129;01mnot\u001b[39;00m (\u001b[38;5;28mself\u001b[39m\u001b[38;5;241m.\u001b[39m_backward_hooks \u001b[38;5;129;01mor\u001b[39;00m \u001b[38;5;28mself\u001b[39m\u001b[38;5;241m.\u001b[39m_backward_pre_hooks \u001b[38;5;129;01mor\u001b[39;00m \u001b[38;5;28mself\u001b[39m\u001b[38;5;241m.\u001b[39m_forward_hooks \u001b[38;5;129;01mor\u001b[39;00m \u001b[38;5;28mself\u001b[39m\u001b[38;5;241m.\u001b[39m_forward_pre_hooks\n\u001b[0;32m   1499\u001b[0m         \u001b[38;5;129;01mor\u001b[39;00m _global_backward_pre_hooks \u001b[38;5;129;01mor\u001b[39;00m _global_backward_hooks\n\u001b[0;32m   1500\u001b[0m         \u001b[38;5;129;01mor\u001b[39;00m _global_forward_hooks \u001b[38;5;129;01mor\u001b[39;00m _global_forward_pre_hooks):\n\u001b[1;32m-> 1501\u001b[0m     \u001b[38;5;28;01mreturn\u001b[39;00m \u001b[43mforward_call\u001b[49m\u001b[43m(\u001b[49m\u001b[38;5;241;43m*\u001b[39;49m\u001b[43margs\u001b[49m\u001b[43m,\u001b[49m\u001b[43m \u001b[49m\u001b[38;5;241;43m*\u001b[39;49m\u001b[38;5;241;43m*\u001b[39;49m\u001b[43mkwargs\u001b[49m\u001b[43m)\u001b[49m\n\u001b[0;32m   1502\u001b[0m \u001b[38;5;66;03m# Do not call functions when jit is used\u001b[39;00m\n\u001b[0;32m   1503\u001b[0m full_backward_hooks, non_full_backward_hooks \u001b[38;5;241m=\u001b[39m [], []\n",
      "File \u001b[1;32mc:\\Users\\huday\\AppData\\Local\\Programs\\Python\\Python311\\Lib\\site-packages\\torch\\nn\\modules\\rnn.py:810\u001b[0m, in \u001b[0;36mLSTM.forward\u001b[1;34m(self, input, hx)\u001b[0m\n\u001b[0;32m    806\u001b[0m     \u001b[38;5;66;03m# Each batch of the hidden state should match the input sequence that\u001b[39;00m\n\u001b[0;32m    807\u001b[0m     \u001b[38;5;66;03m# the user believes he/she is passing in.\u001b[39;00m\n\u001b[0;32m    808\u001b[0m     hx \u001b[38;5;241m=\u001b[39m \u001b[38;5;28mself\u001b[39m\u001b[38;5;241m.\u001b[39mpermute_hidden(hx, sorted_indices)\n\u001b[1;32m--> 810\u001b[0m \u001b[38;5;28;43mself\u001b[39;49m\u001b[38;5;241;43m.\u001b[39;49m\u001b[43mcheck_forward_args\u001b[49m\u001b[43m(\u001b[49m\u001b[38;5;28;43minput\u001b[39;49m\u001b[43m,\u001b[49m\u001b[43m \u001b[49m\u001b[43mhx\u001b[49m\u001b[43m,\u001b[49m\u001b[43m \u001b[49m\u001b[43mbatch_sizes\u001b[49m\u001b[43m)\u001b[49m\n\u001b[0;32m    811\u001b[0m \u001b[38;5;28;01mif\u001b[39;00m batch_sizes \u001b[38;5;129;01mis\u001b[39;00m \u001b[38;5;28;01mNone\u001b[39;00m:\n\u001b[0;32m    812\u001b[0m     result \u001b[38;5;241m=\u001b[39m _VF\u001b[38;5;241m.\u001b[39mlstm(\u001b[38;5;28minput\u001b[39m, hx, \u001b[38;5;28mself\u001b[39m\u001b[38;5;241m.\u001b[39m_flat_weights, \u001b[38;5;28mself\u001b[39m\u001b[38;5;241m.\u001b[39mbias, \u001b[38;5;28mself\u001b[39m\u001b[38;5;241m.\u001b[39mnum_layers,\n\u001b[0;32m    813\u001b[0m                       \u001b[38;5;28mself\u001b[39m\u001b[38;5;241m.\u001b[39mdropout, \u001b[38;5;28mself\u001b[39m\u001b[38;5;241m.\u001b[39mtraining, \u001b[38;5;28mself\u001b[39m\u001b[38;5;241m.\u001b[39mbidirectional, \u001b[38;5;28mself\u001b[39m\u001b[38;5;241m.\u001b[39mbatch_first)\n",
      "File \u001b[1;32mc:\\Users\\huday\\AppData\\Local\\Programs\\Python\\Python311\\Lib\\site-packages\\torch\\nn\\modules\\rnn.py:730\u001b[0m, in \u001b[0;36mLSTM.check_forward_args\u001b[1;34m(self, input, hidden, batch_sizes)\u001b[0m\n\u001b[0;32m    725\u001b[0m \u001b[38;5;28;01mdef\u001b[39;00m \u001b[38;5;21mcheck_forward_args\u001b[39m(\u001b[38;5;28mself\u001b[39m,  \u001b[38;5;66;03m# type: ignore[override]\u001b[39;00m\n\u001b[0;32m    726\u001b[0m                        \u001b[38;5;28minput\u001b[39m: Tensor,\n\u001b[0;32m    727\u001b[0m                        hidden: Tuple[Tensor, Tensor],\n\u001b[0;32m    728\u001b[0m                        batch_sizes: Optional[Tensor],\n\u001b[0;32m    729\u001b[0m                        ):\n\u001b[1;32m--> 730\u001b[0m     \u001b[38;5;28;43mself\u001b[39;49m\u001b[38;5;241;43m.\u001b[39;49m\u001b[43mcheck_input\u001b[49m\u001b[43m(\u001b[49m\u001b[38;5;28;43minput\u001b[39;49m\u001b[43m,\u001b[49m\u001b[43m \u001b[49m\u001b[43mbatch_sizes\u001b[49m\u001b[43m)\u001b[49m\n\u001b[0;32m    731\u001b[0m     \u001b[38;5;28mself\u001b[39m\u001b[38;5;241m.\u001b[39mcheck_hidden_size(hidden[\u001b[38;5;241m0\u001b[39m], \u001b[38;5;28mself\u001b[39m\u001b[38;5;241m.\u001b[39mget_expected_hidden_size(\u001b[38;5;28minput\u001b[39m, batch_sizes),\n\u001b[0;32m    732\u001b[0m                            \u001b[38;5;124m'\u001b[39m\u001b[38;5;124mExpected hidden[0] size \u001b[39m\u001b[38;5;132;01m{}\u001b[39;00m\u001b[38;5;124m, got \u001b[39m\u001b[38;5;132;01m{}\u001b[39;00m\u001b[38;5;124m'\u001b[39m)\n\u001b[0;32m    733\u001b[0m     \u001b[38;5;28mself\u001b[39m\u001b[38;5;241m.\u001b[39mcheck_hidden_size(hidden[\u001b[38;5;241m1\u001b[39m], \u001b[38;5;28mself\u001b[39m\u001b[38;5;241m.\u001b[39mget_expected_cell_size(\u001b[38;5;28minput\u001b[39m, batch_sizes),\n\u001b[0;32m    734\u001b[0m                            \u001b[38;5;124m'\u001b[39m\u001b[38;5;124mExpected hidden[1] size \u001b[39m\u001b[38;5;132;01m{}\u001b[39;00m\u001b[38;5;124m, got \u001b[39m\u001b[38;5;132;01m{}\u001b[39;00m\u001b[38;5;124m'\u001b[39m)\n",
      "File \u001b[1;32mc:\\Users\\huday\\AppData\\Local\\Programs\\Python\\Python311\\Lib\\site-packages\\torch\\nn\\modules\\rnn.py:218\u001b[0m, in \u001b[0;36mRNNBase.check_input\u001b[1;34m(self, input, batch_sizes)\u001b[0m\n\u001b[0;32m    214\u001b[0m     \u001b[38;5;28;01mraise\u001b[39;00m \u001b[38;5;167;01mRuntimeError\u001b[39;00m(\n\u001b[0;32m    215\u001b[0m         \u001b[38;5;124m'\u001b[39m\u001b[38;5;124minput must have \u001b[39m\u001b[38;5;132;01m{}\u001b[39;00m\u001b[38;5;124m dimensions, got \u001b[39m\u001b[38;5;132;01m{}\u001b[39;00m\u001b[38;5;124m'\u001b[39m\u001b[38;5;241m.\u001b[39mformat(\n\u001b[0;32m    216\u001b[0m             expected_input_dim, \u001b[38;5;28minput\u001b[39m\u001b[38;5;241m.\u001b[39mdim()))\n\u001b[0;32m    217\u001b[0m \u001b[38;5;28;01mif\u001b[39;00m \u001b[38;5;28mself\u001b[39m\u001b[38;5;241m.\u001b[39minput_size \u001b[38;5;241m!=\u001b[39m \u001b[38;5;28minput\u001b[39m\u001b[38;5;241m.\u001b[39msize(\u001b[38;5;241m-\u001b[39m\u001b[38;5;241m1\u001b[39m):\n\u001b[1;32m--> 218\u001b[0m     \u001b[38;5;28;01mraise\u001b[39;00m \u001b[38;5;167;01mRuntimeError\u001b[39;00m(\n\u001b[0;32m    219\u001b[0m         \u001b[38;5;124m'\u001b[39m\u001b[38;5;124minput.size(-1) must be equal to input_size. Expected \u001b[39m\u001b[38;5;132;01m{}\u001b[39;00m\u001b[38;5;124m, got \u001b[39m\u001b[38;5;132;01m{}\u001b[39;00m\u001b[38;5;124m'\u001b[39m\u001b[38;5;241m.\u001b[39mformat(\n\u001b[0;32m    220\u001b[0m             \u001b[38;5;28mself\u001b[39m\u001b[38;5;241m.\u001b[39minput_size, \u001b[38;5;28minput\u001b[39m\u001b[38;5;241m.\u001b[39msize(\u001b[38;5;241m-\u001b[39m\u001b[38;5;241m1\u001b[39m)))\n",
      "\u001b[1;31mRuntimeError\u001b[0m: input.size(-1) must be equal to input_size. Expected 2, got 1"
     ]
    }
   ],
   "source": [
    "\n",
    "# Convert the DataFrame to a PyTorch tensor\n",
    "data_tensor = torch.tensor(data.values, dtype=torch.float32)\n",
    "\n",
    "\n",
    "model = TwinRNN(input_size, hidden_size, num_layers, num_features)\n",
    "\n",
    "# Perform inference\n",
    "with torch.no_grad():\n",
    "    output = model(data_tensor.unsqueeze(0))  # Add batch dimension\n",
    "    print(output)"
   ]
  },
  {
   "cell_type": "markdown",
   "metadata": {},
   "source": [
    "## import"
   ]
  },
  {
   "cell_type": "code",
   "execution_count": 4,
   "metadata": {},
   "outputs": [],
   "source": [
    "import pandas as pd\n",
    "import numpy as np\n",
    "import torch\n",
    "import torch.nn as nn\n",
    "import torch.optim as optim\n",
    "from torch.utils.data import Dataset, DataLoader\n"
   ]
  },
  {
   "cell_type": "markdown",
   "metadata": {},
   "source": [
    "## Hyperparameters"
   ]
  },
  {
   "cell_type": "code",
   "execution_count": 33,
   "metadata": {},
   "outputs": [],
   "source": [
    "input_size = 1\n",
    "hidden_size = 128\n",
    "learning_rate = 0.001\n",
    "num_epochs = 30\n",
    "batch_size = 1"
   ]
  },
  {
   "cell_type": "markdown",
   "metadata": {},
   "source": [
    "## Data"
   ]
  },
  {
   "cell_type": "code",
   "execution_count": 28,
   "metadata": {},
   "outputs": [],
   "source": [
    "\n",
    "class CustomDataset(Dataset):\n",
    "    def __init__(self, X1, X2, y):\n",
    "        self.X1 = torch.tensor(X1, dtype=torch.float32)\n",
    "        self.X2 = torch.tensor(X2, dtype=torch.float32)\n",
    "        self.y = torch.tensor(y, dtype=torch.float32) \n",
    "\n",
    "    def __len__(self):\n",
    "        return len(self.y)\n",
    "\n",
    "    def __getitem__(self, idx):\n",
    "        return self.X1[idx], self.X2[idx], self.y[idx]\n",
    "\n",
    "\n",
    "\n"
   ]
  },
  {
   "cell_type": "code",
   "execution_count": 29,
   "metadata": {},
   "outputs": [],
   "source": [
    "data = pd.read_csv(\"./data.csv\")\n",
    "\n",
    "X1 = data['num1'].values.reshape(-1, 1)\n",
    "X2 = data['num2'].values.reshape(-1, 1)\n",
    "y = data['label'].values\n",
    "\n",
    "# Normalize data\n",
    "X1 = (X1 - np.mean(X1)) / np.std(X1)\n",
    "X2 = (X2 - np.mean(X2)) / np.std(X2)\n"
   ]
  },
  {
   "cell_type": "markdown",
   "metadata": {},
   "source": [
    "## Model"
   ]
  },
  {
   "cell_type": "code",
   "execution_count": 31,
   "metadata": {},
   "outputs": [],
   "source": [
    "import torch\n",
    "import torch.nn as nn\n",
    "\n",
    "class TwinRRN(nn.Module):\n",
    "    def __init__(self, input_size, hidden_size):\n",
    "        super(TwinRRN, self).__init__()\n",
    "        self.lstm1 = nn.LSTM(input_size, hidden_size, batch_first=True)\n",
    "        self.lstm2 = nn.LSTM(input_size, hidden_size, batch_first=True)\n",
    "        self.fc = nn.Linear(hidden_size*2, 1)\n",
    "        self.sigmoid = nn.Sigmoid()\n",
    "\n",
    "    def forward(self, x1, x2):\n",
    "        _, (hidden1, _) = self.lstm1(x1)\n",
    "        _, (hidden2, _) = self.lstm2(x2)\n",
    "        combined_hidden = torch.cat((hidden1[-1], hidden2[-1]), dim=1)\n",
    "        output = self.fc(combined_hidden)\n",
    "        output = self.sigmoid(output)\n",
    "        return output, (hidden1, hidden2)\n",
    "\n"
   ]
  },
  {
   "cell_type": "markdown",
   "metadata": {},
   "source": [
    "## Train"
   ]
  },
  {
   "cell_type": "code",
   "execution_count": 34,
   "metadata": {},
   "outputs": [
    {
     "ename": "IndexError",
     "evalue": "Dimension out of range (expected to be in range of [-1, 0], but got 1)",
     "output_type": "error",
     "traceback": [
      "\u001b[1;31m---------------------------------------------------------------------------\u001b[0m",
      "\u001b[1;31mIndexError\u001b[0m                                Traceback (most recent call last)",
      "Cell \u001b[1;32mIn[34], line 13\u001b[0m\n\u001b[0;32m     11\u001b[0m \u001b[38;5;28;01mfor\u001b[39;00m x1, x2, labels \u001b[38;5;129;01min\u001b[39;00m dataloader:\n\u001b[0;32m     12\u001b[0m     optimizer\u001b[38;5;241m.\u001b[39mzero_grad()\n\u001b[1;32m---> 13\u001b[0m     outputs, (hidden1, hidden2) \u001b[38;5;241m=\u001b[39m \u001b[43mmodel\u001b[49m\u001b[43m(\u001b[49m\u001b[43mx1\u001b[49m\u001b[43m,\u001b[49m\u001b[43m \u001b[49m\u001b[43mx2\u001b[49m\u001b[43m)\u001b[49m\n\u001b[0;32m     14\u001b[0m     loss \u001b[38;5;241m=\u001b[39m criterion(outputs\u001b[38;5;241m.\u001b[39munsqueeze(\u001b[38;5;241m1\u001b[39m), labels)\n\u001b[0;32m     15\u001b[0m     loss\u001b[38;5;241m.\u001b[39mbackward()\n",
      "File \u001b[1;32mc:\\Users\\huday\\AppData\\Local\\Programs\\Python\\Python311\\Lib\\site-packages\\torch\\nn\\modules\\module.py:1501\u001b[0m, in \u001b[0;36mModule._call_impl\u001b[1;34m(self, *args, **kwargs)\u001b[0m\n\u001b[0;32m   1496\u001b[0m \u001b[38;5;66;03m# If we don't have any hooks, we want to skip the rest of the logic in\u001b[39;00m\n\u001b[0;32m   1497\u001b[0m \u001b[38;5;66;03m# this function, and just call forward.\u001b[39;00m\n\u001b[0;32m   1498\u001b[0m \u001b[38;5;28;01mif\u001b[39;00m \u001b[38;5;129;01mnot\u001b[39;00m (\u001b[38;5;28mself\u001b[39m\u001b[38;5;241m.\u001b[39m_backward_hooks \u001b[38;5;129;01mor\u001b[39;00m \u001b[38;5;28mself\u001b[39m\u001b[38;5;241m.\u001b[39m_backward_pre_hooks \u001b[38;5;129;01mor\u001b[39;00m \u001b[38;5;28mself\u001b[39m\u001b[38;5;241m.\u001b[39m_forward_hooks \u001b[38;5;129;01mor\u001b[39;00m \u001b[38;5;28mself\u001b[39m\u001b[38;5;241m.\u001b[39m_forward_pre_hooks\n\u001b[0;32m   1499\u001b[0m         \u001b[38;5;129;01mor\u001b[39;00m _global_backward_pre_hooks \u001b[38;5;129;01mor\u001b[39;00m _global_backward_hooks\n\u001b[0;32m   1500\u001b[0m         \u001b[38;5;129;01mor\u001b[39;00m _global_forward_hooks \u001b[38;5;129;01mor\u001b[39;00m _global_forward_pre_hooks):\n\u001b[1;32m-> 1501\u001b[0m     \u001b[38;5;28;01mreturn\u001b[39;00m \u001b[43mforward_call\u001b[49m\u001b[43m(\u001b[49m\u001b[38;5;241;43m*\u001b[39;49m\u001b[43margs\u001b[49m\u001b[43m,\u001b[49m\u001b[43m \u001b[49m\u001b[38;5;241;43m*\u001b[39;49m\u001b[38;5;241;43m*\u001b[39;49m\u001b[43mkwargs\u001b[49m\u001b[43m)\u001b[49m\n\u001b[0;32m   1502\u001b[0m \u001b[38;5;66;03m# Do not call functions when jit is used\u001b[39;00m\n\u001b[0;32m   1503\u001b[0m full_backward_hooks, non_full_backward_hooks \u001b[38;5;241m=\u001b[39m [], []\n",
      "Cell \u001b[1;32mIn[31], line 15\u001b[0m, in \u001b[0;36mTwinRRN.forward\u001b[1;34m(self, x1, x2)\u001b[0m\n\u001b[0;32m     13\u001b[0m _, (hidden1, _) \u001b[38;5;241m=\u001b[39m \u001b[38;5;28mself\u001b[39m\u001b[38;5;241m.\u001b[39mlstm1(x1)\n\u001b[0;32m     14\u001b[0m _, (hidden2, _) \u001b[38;5;241m=\u001b[39m \u001b[38;5;28mself\u001b[39m\u001b[38;5;241m.\u001b[39mlstm2(x2)\n\u001b[1;32m---> 15\u001b[0m combined_hidden \u001b[38;5;241m=\u001b[39m \u001b[43mtorch\u001b[49m\u001b[38;5;241;43m.\u001b[39;49m\u001b[43mcat\u001b[49m\u001b[43m(\u001b[49m\u001b[43m(\u001b[49m\u001b[43mhidden1\u001b[49m\u001b[43m[\u001b[49m\u001b[38;5;241;43m-\u001b[39;49m\u001b[38;5;241;43m1\u001b[39;49m\u001b[43m]\u001b[49m\u001b[43m,\u001b[49m\u001b[43m \u001b[49m\u001b[43mhidden2\u001b[49m\u001b[43m[\u001b[49m\u001b[38;5;241;43m-\u001b[39;49m\u001b[38;5;241;43m1\u001b[39;49m\u001b[43m]\u001b[49m\u001b[43m)\u001b[49m\u001b[43m,\u001b[49m\u001b[43m \u001b[49m\u001b[43mdim\u001b[49m\u001b[38;5;241;43m=\u001b[39;49m\u001b[38;5;241;43m1\u001b[39;49m\u001b[43m)\u001b[49m\n\u001b[0;32m     16\u001b[0m output \u001b[38;5;241m=\u001b[39m \u001b[38;5;28mself\u001b[39m\u001b[38;5;241m.\u001b[39mfc(combined_hidden)\n\u001b[0;32m     17\u001b[0m output \u001b[38;5;241m=\u001b[39m \u001b[38;5;28mself\u001b[39m\u001b[38;5;241m.\u001b[39msigmoid(output)\n",
      "\u001b[1;31mIndexError\u001b[0m: Dimension out of range (expected to be in range of [-1, 0], but got 1)"
     ]
    }
   ],
   "source": [
    "\n",
    "# Create dataset and dataloader\n",
    "dataset = CustomDataset(X1, X2, y)\n",
    "dataloader = DataLoader(dataset, batch_size=batch_size, shuffle=True)\n",
    "\n",
    "# Initialize model, loss, and optimizer\n",
    "model = TwinRRN(input_size, hidden_size)\n",
    "criterion = nn.MSELoss()\n",
    "optimizer = optim.Adam(model.parameters(), lr=learning_rate)\n",
    "\n",
    "for epoch in range(num_epochs):\n",
    "    for x1, x2, labels in dataloader:\n",
    "        optimizer.zero_grad()\n",
    "        outputs, (hidden1, hidden2) = model(x1, x2)\n",
    "        loss = criterion(outputs.squeeze(1), labels)\n",
    "        loss.backward()\n",
    "        optimizer.step()\n",
    "    print(f\"Epoch [{epoch+1}/{num_epochs}], Loss: {loss.item()}\")\n",
    "\n"
   ]
  },
  {
   "cell_type": "code",
   "execution_count": null,
   "metadata": {},
   "outputs": [
    {
     "data": {
      "image/png": "[encoded data removed]",
      "text/plain": [
       "<Figure size 1000x500 with 1 Axes>"
      ]
     },
     "metadata": {},
     "output_type": "display_data"
    },
    {
     "data": {
      "image/png": "[encoded data removed]",
      "text/plain": [
       "<Figure size 1000x500 with 1 Axes>"
      ]
     },
     "metadata": {},
     "output_type": "display_data"
    }
   ],
   "source": [
    "import matplotlib.pyplot as plt\n",
    "import numpy as np\n",
    "\n",
    "# Assuming you have a function to calculate accuracy\n",
    "def calculate_accuracy(outputs, labels):\n",
    "    # Perform necessary computations to calculate accuracy\n",
    "    # This can depend on your task, for example for classification, you might use argmax\n",
    "    # For regression, you might use a threshold or some other metric\n",
    "    # Here's a simple example for binary classification assuming sigmoid activation\n",
    "    predictions = (outputs > 0.5).float()\n",
    "    correct = (predictions == labels).float()\n",
    "    accuracy = correct.sum() / len(correct)\n",
    "    return accuracy.item()\n",
    "\n",
    "# Assuming you have defined num_epochs, dataloader, model, optimizer, criterion\n",
    "train_losses = []\n",
    "test_losses = []\n",
    "train_accuracies = []\n",
    "test_accuracies = []\n",
    "\n",
    "for epoch in range(num_epochs):\n",
    "    # Training loop\n",
    "    train_loss = 0.0\n",
    "    correct_train = 0\n",
    "    total_train = 0\n",
    "    model.train()\n",
    "    for x1, x2, labels in dataloader:\n",
    "        optimizer.zero_grad()\n",
    "        outputs = model(x1, x2)\n",
    "        loss = criterion(outputs.squeeze(1), labels)\n",
    "        loss.backward()\n",
    "        optimizer.step()\n",
    "        train_loss += loss.item()\n",
    "        # Calculate training accuracy\n",
    "        train_accuracy = calculate_accuracy(outputs.squeeze(1), labels)\n",
    "        train_accuracies.append(train_accuracy)\n",
    "        \n",
    "    train_loss /= len(dataloader)\n",
    "    train_losses.append(train_loss)\n",
    "    \n",
    "\n",
    "\n",
    "\n",
    "# Plotting the loss\n",
    "plt.figure(figsize=(10, 5))\n",
    "plt.plot(train_losses, label='Train Loss')\n",
    "plt.plot(test_losses, label='Test Loss')\n",
    "plt.title('Training and Test Loss')\n",
    "plt.xlabel('Epoch')\n",
    "plt.ylabel('Loss')\n",
    "plt.legend()\n",
    "plt.show()\n",
    "\n",
    "# Plotting the accuracy\n",
    "plt.figure(figsize=(10, 5))\n",
    "plt.plot(train_accuracies, label='Train Accuracy')\n",
    "plt.plot(test_accuracies, label='Test Accuracy')\n",
    "plt.title('Training and Test Accuracy')\n",
    "plt.xlabel('Iteration')\n",
    "plt.ylabel('Accuracy')\n",
    "plt.legend()\n",
    "plt.show()\n"
   ]
  },
  {
   "cell_type": "markdown",
   "metadata": {},
   "source": [
    "## Evaluate"
   ]
  },
  {
   "cell_type": "code",
   "execution_count": null,
   "metadata": {},
   "outputs": [
    {
     "name": "stdout",
     "output_type": "stream",
     "text": [
      "Accuracy: 0.325\n"
     ]
    }
   ],
   "source": [
    "with torch.no_grad():\n",
    "    outputs = model(torch.tensor(X1, dtype=torch.float32), torch.tensor(X2, dtype=torch.float32))\n",
    "    predictions = (outputs.numpy() > 0.5).astype(int)\n",
    "    accuracy = np.mean(predictions.squeeze() == y)\n",
    "    print(f\"Accuracy: {accuracy}\")\n"
   ]
  },
  {
   "cell_type": "code",
   "execution_count": null,
   "metadata": {},
   "outputs": [
    {
     "name": "stdout",
     "output_type": "stream",
     "text": [
      "Epoch [1/50], Train Loss: 0.6183091121166945, Train Accuracy: 0.675, Test Loss: 0.6148315142467617, Test Accuracy: 0.675\n",
      "Epoch [2/50], Train Loss: 0.6199103355780244, Train Accuracy: 0.675, Test Loss: 0.6155931507050991, Test Accuracy: 0.675\n",
      "Epoch [3/50], Train Loss: 0.6192413777858019, Train Accuracy: 0.675, Test Loss: 0.6152693456783891, Test Accuracy: 0.675\n",
      "Epoch [4/50], Train Loss: 0.6184597848728299, Train Accuracy: 0.675, Test Loss: 0.6146735177561641, Test Accuracy: 0.675\n",
      "Epoch [5/50], Train Loss: 0.6181389037519693, Train Accuracy: 0.675, Test Loss: 0.6147029876708985, Test Accuracy: 0.675\n",
      "Epoch [6/50], Train Loss: 0.618196677416563, Train Accuracy: 0.675, Test Loss: 0.6144632480666041, Test Accuracy: 0.675\n",
      "Epoch [7/50], Train Loss: 0.6187107322737575, Train Accuracy: 0.675, Test Loss: 0.6143910703063011, Test Accuracy: 0.675\n",
      "Epoch [8/50], Train Loss: 0.618107333779335, Train Accuracy: 0.675, Test Loss: 0.6143811877071857, Test Accuracy: 0.675\n",
      "Epoch [9/50], Train Loss: 0.6180201268941165, Train Accuracy: 0.675, Test Loss: 0.6141650446876884, Test Accuracy: 0.675\n",
      "Epoch [10/50], Train Loss: 0.617683385014534, Train Accuracy: 0.675, Test Loss: 0.615041167922318, Test Accuracy: 0.675\n",
      "Epoch [11/50], Train Loss: 0.6182609213516116, Train Accuracy: 0.675, Test Loss: 0.6144663773849607, Test Accuracy: 0.675\n",
      "Epoch [12/50], Train Loss: 0.6182672670483589, Train Accuracy: 0.675, Test Loss: 0.6141126321256161, Test Accuracy: 0.675\n",
      "Epoch [13/50], Train Loss: 0.6183267874270677, Train Accuracy: 0.675, Test Loss: 0.6145918271318078, Test Accuracy: 0.675\n",
      "Epoch [14/50], Train Loss: 0.6173107093945146, Train Accuracy: 0.675, Test Loss: 0.6140539476647973, Test Accuracy: 0.675\n",
      "Epoch [15/50], Train Loss: 0.617457774579525, Train Accuracy: 0.675, Test Loss: 0.6140963563323021, Test Accuracy: 0.675\n",
      "Epoch [16/50], Train Loss: 0.6164099907130003, Train Accuracy: 0.675, Test Loss: 0.614053261578083, Test Accuracy: 0.675\n",
      "Epoch [17/50], Train Loss: 0.6182697445526719, Train Accuracy: 0.675, Test Loss: 0.6149159545078874, Test Accuracy: 0.675\n",
      "Epoch [18/50], Train Loss: 0.6189589866995812, Train Accuracy: 0.675, Test Loss: 0.6145607614517212, Test Accuracy: 0.675\n",
      "Epoch [19/50], Train Loss: 0.6183537646010518, Train Accuracy: 0.675, Test Loss: 0.6141952979192138, Test Accuracy: 0.675\n",
      "Epoch [20/50], Train Loss: 0.6175750279799104, Train Accuracy: 0.675, Test Loss: 0.6138542116060853, Test Accuracy: 0.675\n",
      "Epoch [21/50], Train Loss: 0.6174807676672935, Train Accuracy: 0.675, Test Loss: 0.6138831114396452, Test Accuracy: 0.675\n",
      "Epoch [22/50], Train Loss: 0.6180455415323377, Train Accuracy: 0.675, Test Loss: 0.6139260423183441, Test Accuracy: 0.675\n",
      "Epoch [23/50], Train Loss: 0.6170228447765111, Train Accuracy: 0.675, Test Loss: 0.6136989990249276, Test Accuracy: 0.675\n",
      "Epoch [24/50], Train Loss: 0.6178082506358623, Train Accuracy: 0.675, Test Loss: 0.6135855024307966, Test Accuracy: 0.675\n",
      "Epoch [25/50], Train Loss: 0.6171107121184468, Train Accuracy: 0.675, Test Loss: 0.6137942889332771, Test Accuracy: 0.675\n",
      "Epoch [26/50], Train Loss: 0.617363549657166, Train Accuracy: 0.675, Test Loss: 0.6139069640263916, Test Accuracy: 0.675\n",
      "Epoch [27/50], Train Loss: 0.6175218895077705, Train Accuracy: 0.675, Test Loss: 0.6135551819577814, Test Accuracy: 0.675\n",
      "Epoch [28/50], Train Loss: 0.6176007022336125, Train Accuracy: 0.675, Test Loss: 0.6135083262622356, Test Accuracy: 0.675\n",
      "Epoch [29/50], Train Loss: 0.6169848243147135, Train Accuracy: 0.675, Test Loss: 0.613580710068345, Test Accuracy: 0.675\n",
      "Epoch [30/50], Train Loss: 0.617824648693204, Train Accuracy: 0.675, Test Loss: 0.6136870089173317, Test Accuracy: 0.675\n",
      "Epoch [31/50], Train Loss: 0.6171232545375824, Train Accuracy: 0.675, Test Loss: 0.6133567918092012, Test Accuracy: 0.675\n",
      "Epoch [32/50], Train Loss: 0.617183793745935, Train Accuracy: 0.6775, Test Loss: 0.6136886321753263, Test Accuracy: 0.675\n",
      "Epoch [33/50], Train Loss: 0.6174134086817503, Train Accuracy: 0.675, Test Loss: 0.6132714084908366, Test Accuracy: 0.675\n",
      "Epoch [34/50], Train Loss: 0.6173050909489394, Train Accuracy: 0.675, Test Loss: 0.6133413660153747, Test Accuracy: 0.675\n",
      "Epoch [35/50], Train Loss: 0.616340198405087, Train Accuracy: 0.675, Test Loss: 0.6135938109457493, Test Accuracy: 0.675\n",
      "Epoch [36/50], Train Loss: 0.617509047538042, Train Accuracy: 0.675, Test Loss: 0.6132045019790531, Test Accuracy: 0.675\n",
      "Epoch [37/50], Train Loss: 0.6167762863636017, Train Accuracy: 0.675, Test Loss: 0.6131148437410593, Test Accuracy: 0.675\n",
      "Epoch [38/50], Train Loss: 0.6165926952287555, Train Accuracy: 0.675, Test Loss: 0.6132744403928518, Test Accuracy: 0.675\n",
      "Epoch [39/50], Train Loss: 0.6168323558568954, Train Accuracy: 0.675, Test Loss: 0.6132659806683659, Test Accuracy: 0.675\n",
      "Epoch [40/50], Train Loss: 0.6169990959018469, Train Accuracy: 0.675, Test Loss: 0.6132266710698605, Test Accuracy: 0.675\n",
      "Epoch [41/50], Train Loss: 0.6179502039030195, Train Accuracy: 0.675, Test Loss: 0.6130362994596362, Test Accuracy: 0.675\n",
      "Epoch [42/50], Train Loss: 0.6174885294958949, Train Accuracy: 0.675, Test Loss: 0.6134242692217231, Test Accuracy: 0.675\n",
      "Epoch [43/50], Train Loss: 0.6159646893665195, Train Accuracy: 0.675, Test Loss: 0.6130209803953767, Test Accuracy: 0.675\n",
      "Epoch [44/50], Train Loss: 0.6164215647801757, Train Accuracy: 0.675, Test Loss: 0.6129160972312093, Test Accuracy: 0.675\n",
      "Epoch [45/50], Train Loss: 0.6174459637701512, Train Accuracy: 0.675, Test Loss: 0.6130533415079117, Test Accuracy: 0.675\n",
      "Epoch [46/50], Train Loss: 0.616369164288044, Train Accuracy: 0.675, Test Loss: 0.613107709698379, Test Accuracy: 0.675\n",
      "Epoch [47/50], Train Loss: 0.6170302086323499, Train Accuracy: 0.675, Test Loss: 0.6129974665865302, Test Accuracy: 0.675\n",
      "Epoch [48/50], Train Loss: 0.6167060079425574, Train Accuracy: 0.675, Test Loss: 0.6127711640670895, Test Accuracy: 0.675\n",
      "Epoch [49/50], Train Loss: 0.6174618694931269, Train Accuracy: 0.675, Test Loss: 0.6128989426791668, Test Accuracy: 0.675\n",
      "Epoch [50/50], Train Loss: 0.6166012296453118, Train Accuracy: 0.675, Test Loss: 0.6129030942544341, Test Accuracy: 0.675\n"
     ]
    }
   ],
   "source": [
    "# Split data into train and test sets\n",
    "train_size = int(0.8 * len(dataset))\n",
    "test_size = len(dataset) - train_size\n",
    "train_dataset, test_dataset = torch.utils.data.random_split(dataset, [train_size, test_size])\n",
    "\n",
    "# Create a single data loader for the entire dataset\n",
    "dataloader = torch.utils.data.DataLoader(dataset, batch_size=batch_size, shuffle=True)\n",
    "\n",
    "train_losses = []\n",
    "test_losses = []\n",
    "\n",
    "# Training loop\n",
    "for epoch in range(num_epochs):\n",
    "    # Training\n",
    "    model.train()\n",
    "    correct_train = 0\n",
    "    total_train = 0\n",
    "    train_loss = 0.0\n",
    "    for x1, x2, labels in dataloader:\n",
    "        optimizer.zero_grad()\n",
    "        outputs = model(x1, x2)\n",
    "        loss = criterion(outputs.squeeze(1), labels)\n",
    "        loss.backward()\n",
    "        optimizer.step()\n",
    "        \n",
    "        # Calculate training accuracy\n",
    "        predicted = (outputs > 0.5).float()\n",
    "        correct_train += (predicted == labels).sum().item()\n",
    "        total_train += labels.size(0)\n",
    "        \n",
    "        train_loss += loss.item()\n",
    "    \n",
    "    train_accuracy = correct_train / total_train\n",
    "    train_losses.append(train_loss / len(dataloader))\n",
    "    \n",
    "    # Testing\n",
    "    model.eval()\n",
    "    correct_test = 0\n",
    "    total_test = 0\n",
    "    test_loss = 0.0\n",
    "    with torch.no_grad():\n",
    "        for x1, x2, labels in dataloader:\n",
    "            outputs = model(x1, x2)\n",
    "            loss = criterion(outputs.squeeze(1), labels)\n",
    "            \n",
    "            # Calculate testing accuracy\n",
    "            predicted = (outputs > 0.5).float()\n",
    "            correct_test += (predicted == labels).sum().item()\n",
    "            total_test += labels.size(0)\n",
    "            \n",
    "            test_loss += loss.item()\n",
    "    \n",
    "    test_accuracy = correct_test / total_test\n",
    "    test_losses.append(test_loss / len(dataloader))\n",
    "    \n",
    "    print(f\"Epoch [{epoch+1}/{num_epochs}], Train Loss: {train_losses[-1]}, Train Accuracy: {train_accuracy}, Test Loss: {test_losses[-1]}, Test Accuracy: {test_accuracy}\")\n"
   ]
  }
 ],
 "metadata": {
  "kernelspec": {
   "display_name": "Python 3",
   "language": "python",
   "name": "python3"
  },
  "language_info": {
   "codemirror_mode": {
    "name": "ipython",
    "version": 3
   },
   "file_extension": ".py",
   "mimetype": "text/x-python",
   "name": "python",
   "nbconvert_exporter": "python",
   "pygments_lexer": "ipython3",
   "version": "3.11.4"
  }
 },
 "nbformat": 4,
 "nbformat_minor": 2
}
